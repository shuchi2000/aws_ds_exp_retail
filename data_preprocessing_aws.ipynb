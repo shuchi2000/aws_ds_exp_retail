{
 "cells": [
  {
   "cell_type": "code",
   "execution_count": 2,
   "id": "Iq2m87e4zLlVGARSkKMt4RiS",
   "metadata": {
    "execution": {
     "iopub.execute_input": "2025-07-09T18:15:15.784074Z",
     "iopub.status.busy": "2025-07-09T18:15:15.783796Z",
     "iopub.status.idle": "2025-07-09T18:15:16.679849Z",
     "shell.execute_reply": "2025-07-09T18:15:16.679104Z",
     "shell.execute_reply.started": "2025-07-09T18:15:15.784052Z"
    },
    "gather": {
     "logged": 1747212045894
    },
    "id": "Iq2m87e4zLlVGARSkKMt4RiS",
    "tags": []
   },
   "outputs": [],
   "source": [
    "import pandas as pd\n",
    "import numpy as np\n",
    "import seaborn as sns\n"
   ]
  },
  {
   "cell_type": "code",
   "execution_count": 3,
   "id": "ac8f51ae-b23a-4561-885b-adf316d1ef62",
   "metadata": {
    "execution": {
     "iopub.execute_input": "2025-07-09T18:15:16.681803Z",
     "iopub.status.busy": "2025-07-09T18:15:16.681285Z",
     "iopub.status.idle": "2025-07-09T18:15:16.724965Z",
     "shell.execute_reply": "2025-07-09T18:15:16.724225Z",
     "shell.execute_reply.started": "2025-07-09T18:15:16.681771Z"
    }
   },
   "outputs": [],
   "source": [
    "sales = pd.read_csv(r\"../aws_retail_ds_exp/Sales Data.csv\")\n",
    "inventory = pd.read_csv(r\"../aws_retail_ds_exp/Inventory Data.csv\")\n",
    "pricing = pd.read_csv(r\"../aws_retail_ds_exp/Competitor Pricing Data.csv\")\n",
    "behavior = pd.read_csv(r\"../aws_retail_ds_exp/Daily Customer Behavior.csv\")"
   ]
  },
  {
   "cell_type": "code",
   "execution_count": 4,
   "id": "esX0oYfi50B3",
   "metadata": {
    "execution": {
     "iopub.execute_input": "2025-07-09T18:15:16.726160Z",
     "iopub.status.busy": "2025-07-09T18:15:16.725750Z",
     "iopub.status.idle": "2025-07-09T18:15:16.748734Z",
     "shell.execute_reply": "2025-07-09T18:15:16.747803Z",
     "shell.execute_reply.started": "2025-07-09T18:15:16.726129Z"
    },
    "gather": {
     "logged": 1747212046087
    },
    "id": "esX0oYfi50B3"
   },
   "outputs": [],
   "source": [
    "inventory['Date'] = pd.to_datetime(inventory['Date'], format = \"%Y-%m-%d\")\n",
    "sales['TransactionDate'] = pd.to_datetime(sales['TransactionDate'], format=\"%d-%m-%Y\")\n",
    "behavior['Date'] = pd.to_datetime(behavior['Date'], format = \"%d-%m-%Y\")\n",
    "pricing['Date'] = pd.to_datetime(pricing['Date'], format = \"%d-%m-%Y\")"
   ]
  },
  {
   "cell_type": "code",
   "execution_count": 5,
   "id": "fA26cqTx6adc",
   "metadata": {
    "colab": {
     "base_uri": "https://localhost:8080/"
    },
    "execution": {
     "iopub.execute_input": "2025-07-09T18:15:16.750598Z",
     "iopub.status.busy": "2025-07-09T18:15:16.749876Z",
     "iopub.status.idle": "2025-07-09T18:15:16.774250Z",
     "shell.execute_reply": "2025-07-09T18:15:16.773477Z",
     "shell.execute_reply.started": "2025-07-09T18:15:16.750573Z"
    },
    "executionInfo": {
     "elapsed": 3,
     "status": "ok",
     "timestamp": 1742446918376,
     "user": {
      "displayName": "",
      "userId": ""
     },
     "user_tz": -330
    },
    "gather": {
     "logged": 1747212046442
    },
    "id": "fA26cqTx6adc",
    "outputId": "5ba6733c-ea3a-434b-f016-1e62111aab9d"
   },
   "outputs": [
    {
     "data": {
      "text/html": [
       "<div>\n",
       "<style scoped>\n",
       "    .dataframe tbody tr th:only-of-type {\n",
       "        vertical-align: middle;\n",
       "    }\n",
       "\n",
       "    .dataframe tbody tr th {\n",
       "        vertical-align: top;\n",
       "    }\n",
       "\n",
       "    .dataframe thead th {\n",
       "        text-align: right;\n",
       "    }\n",
       "</style>\n",
       "<table border=\"1\" class=\"dataframe\">\n",
       "  <thead>\n",
       "    <tr style=\"text-align: right;\">\n",
       "      <th></th>\n",
       "      <th>Date</th>\n",
       "      <th>MRP_Nirma</th>\n",
       "      <th>MRP_Surf Excel</th>\n",
       "      <th>DiscountRate_Nirma</th>\n",
       "      <th>DiscountRate_Surf Excel</th>\n",
       "      <th>BasePrice_Nirma</th>\n",
       "      <th>BasePrice_Surf Excel</th>\n",
       "      <th>FinalPrice_Nirma</th>\n",
       "      <th>FinalPrice_Surf Excel</th>\n",
       "    </tr>\n",
       "  </thead>\n",
       "  <tbody>\n",
       "    <tr>\n",
       "      <th>0</th>\n",
       "      <td>2021-01-01</td>\n",
       "      <td>90.0</td>\n",
       "      <td>110.0</td>\n",
       "      <td>0.00</td>\n",
       "      <td>0.00</td>\n",
       "      <td>84.67</td>\n",
       "      <td>107.24</td>\n",
       "      <td>84.67</td>\n",
       "      <td>107.24</td>\n",
       "    </tr>\n",
       "    <tr>\n",
       "      <th>1</th>\n",
       "      <td>2021-01-02</td>\n",
       "      <td>90.0</td>\n",
       "      <td>110.0</td>\n",
       "      <td>0.00</td>\n",
       "      <td>0.07</td>\n",
       "      <td>81.16</td>\n",
       "      <td>107.90</td>\n",
       "      <td>81.16</td>\n",
       "      <td>100.35</td>\n",
       "    </tr>\n",
       "    <tr>\n",
       "      <th>2</th>\n",
       "      <td>2021-01-03</td>\n",
       "      <td>90.0</td>\n",
       "      <td>110.0</td>\n",
       "      <td>0.00</td>\n",
       "      <td>0.00</td>\n",
       "      <td>79.33</td>\n",
       "      <td>105.83</td>\n",
       "      <td>79.33</td>\n",
       "      <td>105.83</td>\n",
       "    </tr>\n",
       "    <tr>\n",
       "      <th>3</th>\n",
       "      <td>2021-01-04</td>\n",
       "      <td>90.0</td>\n",
       "      <td>110.0</td>\n",
       "      <td>0.00</td>\n",
       "      <td>0.00</td>\n",
       "      <td>76.72</td>\n",
       "      <td>101.36</td>\n",
       "      <td>76.72</td>\n",
       "      <td>101.36</td>\n",
       "    </tr>\n",
       "    <tr>\n",
       "      <th>4</th>\n",
       "      <td>2021-01-05</td>\n",
       "      <td>90.0</td>\n",
       "      <td>110.0</td>\n",
       "      <td>0.24</td>\n",
       "      <td>0.00</td>\n",
       "      <td>70.80</td>\n",
       "      <td>107.07</td>\n",
       "      <td>60.00</td>\n",
       "      <td>107.07</td>\n",
       "    </tr>\n",
       "  </tbody>\n",
       "</table>\n",
       "</div>"
      ],
      "text/plain": [
       "        Date  MRP_Nirma  MRP_Surf Excel  DiscountRate_Nirma  \\\n",
       "0 2021-01-01       90.0           110.0                0.00   \n",
       "1 2021-01-02       90.0           110.0                0.00   \n",
       "2 2021-01-03       90.0           110.0                0.00   \n",
       "3 2021-01-04       90.0           110.0                0.00   \n",
       "4 2021-01-05       90.0           110.0                0.24   \n",
       "\n",
       "   DiscountRate_Surf Excel  BasePrice_Nirma  BasePrice_Surf Excel  \\\n",
       "0                     0.00            84.67                107.24   \n",
       "1                     0.07            81.16                107.90   \n",
       "2                     0.00            79.33                105.83   \n",
       "3                     0.00            76.72                101.36   \n",
       "4                     0.00            70.80                107.07   \n",
       "\n",
       "   FinalPrice_Nirma  FinalPrice_Surf Excel  \n",
       "0             84.67                 107.24  \n",
       "1             81.16                 100.35  \n",
       "2             79.33                 105.83  \n",
       "3             76.72                 101.36  \n",
       "4             60.00                 107.07  "
      ]
     },
     "execution_count": 5,
     "metadata": {},
     "output_type": "execute_result"
    }
   ],
   "source": [
    "# Pivot competitor pricing data so that each brand has its own column\n",
    "competitor_pivot_data = pricing.pivot(index=\"Date\", columns=\"Brand\", values=[\"MRP\", \"DiscountRate\", \"BasePrice\", \"FinalPrice\"])\n",
    "\n",
    "# Flatten the MultiIndex columns for better readability\n",
    "competitor_pivot_data.columns = ['_'.join(col).strip() for col in competitor_pivot_data.columns]\n",
    "\n",
    "# Reset index to turn Date back into a column\n",
    "competitor_pivot_data.reset_index(inplace=True)\n",
    "\n",
    "# Display the final pivoted competitor data\n",
    "competitor_pivot_data.head()"
   ]
  },
  {
   "cell_type": "code",
   "execution_count": 6,
   "id": "0AsUJuGs7mP_",
   "metadata": {
    "execution": {
     "iopub.execute_input": "2025-07-09T18:15:16.775731Z",
     "iopub.status.busy": "2025-07-09T18:15:16.775434Z",
     "iopub.status.idle": "2025-07-09T18:15:16.794273Z",
     "shell.execute_reply": "2025-07-09T18:15:16.793366Z",
     "shell.execute_reply.started": "2025-07-09T18:15:16.775700Z"
    },
    "gather": {
     "logged": 1747212046759
    },
    "id": "0AsUJuGs7mP_"
   },
   "outputs": [],
   "source": [
    "# Define the aggregation strategy\n",
    "inventory_aggregation_dict = {\n",
    "    'StockStart': 'sum',\n",
    "    'Demand': 'sum',\n",
    "    'DemandFulfilled': 'sum',\n",
    "    'Backorders': 'sum',\n",
    "    'StockEnd': 'min',  # Min for StockEnd, to capture lowest stock levels\n",
    "    'ReorderPoint': 'max',  # Max for ReorderPoint, as it's a threshold\n",
    "    'OrderPlaced': 'sum',\n",
    "    'OrderQty': 'sum',\n",
    "    'LeadTimeFloat': 'mean',  # Weighted average for LeadTimeFloat\n",
    "    'SafetyStock': 'mean'  # Weighted average for SafetyStock\n",
    "}\n",
    "\n",
    "# Perform the aggregation\n",
    "inventory_aggregated_data = inventory.groupby('Date').agg(inventory_aggregation_dict).reset_index()"
   ]
  },
  {
   "cell_type": "code",
   "execution_count": 7,
   "id": "49b16b20-c0d2-4a6f-8daa-4ac421fad2fc",
   "metadata": {
    "execution": {
     "iopub.execute_input": "2025-07-09T18:15:16.796235Z",
     "iopub.status.busy": "2025-07-09T18:15:16.795675Z",
     "iopub.status.idle": "2025-07-09T18:15:16.808011Z",
     "shell.execute_reply": "2025-07-09T18:15:16.807008Z",
     "shell.execute_reply.started": "2025-07-09T18:15:16.796196Z"
    },
    "gather": {
     "logged": 1747212047057
    }
   },
   "outputs": [
    {
     "data": {
      "text/html": [
       "<div>\n",
       "<style scoped>\n",
       "    .dataframe tbody tr th:only-of-type {\n",
       "        vertical-align: middle;\n",
       "    }\n",
       "\n",
       "    .dataframe tbody tr th {\n",
       "        vertical-align: top;\n",
       "    }\n",
       "\n",
       "    .dataframe thead th {\n",
       "        text-align: right;\n",
       "    }\n",
       "</style>\n",
       "<table border=\"1\" class=\"dataframe\">\n",
       "  <thead>\n",
       "    <tr style=\"text-align: right;\">\n",
       "      <th></th>\n",
       "      <th>Date</th>\n",
       "      <th>StockStart</th>\n",
       "      <th>Demand</th>\n",
       "      <th>DemandFulfilled</th>\n",
       "      <th>Backorders</th>\n",
       "      <th>StockEnd</th>\n",
       "      <th>ReorderPoint</th>\n",
       "      <th>OrderPlaced</th>\n",
       "      <th>OrderQty</th>\n",
       "      <th>LeadTimeFloat</th>\n",
       "      <th>SafetyStock</th>\n",
       "    </tr>\n",
       "  </thead>\n",
       "  <tbody>\n",
       "    <tr>\n",
       "      <th>0</th>\n",
       "      <td>2021-01-01</td>\n",
       "      <td>15662</td>\n",
       "      <td>1831</td>\n",
       "      <td>1831</td>\n",
       "      <td>0</td>\n",
       "      <td>67</td>\n",
       "      <td>1023</td>\n",
       "      <td>6</td>\n",
       "      <td>2604</td>\n",
       "      <td>3.8755</td>\n",
       "      <td>178.45</td>\n",
       "    </tr>\n",
       "    <tr>\n",
       "      <th>1</th>\n",
       "      <td>2021-01-02</td>\n",
       "      <td>14162</td>\n",
       "      <td>2097</td>\n",
       "      <td>2097</td>\n",
       "      <td>0</td>\n",
       "      <td>37</td>\n",
       "      <td>1023</td>\n",
       "      <td>7</td>\n",
       "      <td>4260</td>\n",
       "      <td>3.8755</td>\n",
       "      <td>178.45</td>\n",
       "    </tr>\n",
       "    <tr>\n",
       "      <th>2</th>\n",
       "      <td>2021-01-03</td>\n",
       "      <td>12691</td>\n",
       "      <td>1837</td>\n",
       "      <td>1814</td>\n",
       "      <td>23</td>\n",
       "      <td>0</td>\n",
       "      <td>1023</td>\n",
       "      <td>10</td>\n",
       "      <td>6742</td>\n",
       "      <td>3.8755</td>\n",
       "      <td>178.45</td>\n",
       "    </tr>\n",
       "    <tr>\n",
       "      <th>3</th>\n",
       "      <td>2021-01-04</td>\n",
       "      <td>13081</td>\n",
       "      <td>1588</td>\n",
       "      <td>1588</td>\n",
       "      <td>0</td>\n",
       "      <td>48</td>\n",
       "      <td>1023</td>\n",
       "      <td>10</td>\n",
       "      <td>7040</td>\n",
       "      <td>3.8755</td>\n",
       "      <td>178.45</td>\n",
       "    </tr>\n",
       "    <tr>\n",
       "      <th>4</th>\n",
       "      <td>2021-01-05</td>\n",
       "      <td>13358</td>\n",
       "      <td>1912</td>\n",
       "      <td>1912</td>\n",
       "      <td>0</td>\n",
       "      <td>3</td>\n",
       "      <td>1023</td>\n",
       "      <td>8</td>\n",
       "      <td>7227</td>\n",
       "      <td>3.8755</td>\n",
       "      <td>178.45</td>\n",
       "    </tr>\n",
       "  </tbody>\n",
       "</table>\n",
       "</div>"
      ],
      "text/plain": [
       "        Date  StockStart  Demand  DemandFulfilled  Backorders  StockEnd  \\\n",
       "0 2021-01-01       15662    1831             1831           0        67   \n",
       "1 2021-01-02       14162    2097             2097           0        37   \n",
       "2 2021-01-03       12691    1837             1814          23         0   \n",
       "3 2021-01-04       13081    1588             1588           0        48   \n",
       "4 2021-01-05       13358    1912             1912           0         3   \n",
       "\n",
       "   ReorderPoint  OrderPlaced  OrderQty  LeadTimeFloat  SafetyStock  \n",
       "0          1023            6      2604         3.8755       178.45  \n",
       "1          1023            7      4260         3.8755       178.45  \n",
       "2          1023           10      6742         3.8755       178.45  \n",
       "3          1023           10      7040         3.8755       178.45  \n",
       "4          1023            8      7227         3.8755       178.45  "
      ]
     },
     "execution_count": 7,
     "metadata": {},
     "output_type": "execute_result"
    }
   ],
   "source": [
    "inventory_aggregated_data.head() "
   ]
  },
  {
   "cell_type": "code",
   "execution_count": 8,
   "id": "9EY_P_iw74wa",
   "metadata": {
    "execution": {
     "iopub.execute_input": "2025-07-09T18:15:16.984338Z",
     "iopub.status.busy": "2025-07-09T18:15:16.983524Z",
     "iopub.status.idle": "2025-07-09T18:15:16.998677Z",
     "shell.execute_reply": "2025-07-09T18:15:16.997822Z",
     "shell.execute_reply.started": "2025-07-09T18:15:16.984299Z"
    },
    "gather": {
     "logged": 1747212047289
    },
    "id": "9EY_P_iw74wa"
   },
   "outputs": [],
   "source": [
    "merged_data = (\n",
    "    sales.rename(columns={\"TransactionDate\": \"Date\"})\n",
    "    .merge(inventory_aggregated_data, on=\"Date\", how=\"left\")  # Left join for inventory\n",
    "    .merge(behavior, on=\"Date\", how=\"inner\")  # Inner join for customer data (only dates with customer behavior)\n",
    "    .merge(competitor_pivot_data, on=\"Date\", how=\"left\")  # Left join for competitor data\n",
    ")"
   ]
  },
  {
   "cell_type": "code",
   "execution_count": 9,
   "id": "a39b7c70-3f6b-4217-8fd8-7a43ea3dcbac",
   "metadata": {
    "execution": {
     "iopub.execute_input": "2025-07-09T18:15:17.319148Z",
     "iopub.status.busy": "2025-07-09T18:15:17.318630Z",
     "iopub.status.idle": "2025-07-09T18:15:17.323756Z",
     "shell.execute_reply": "2025-07-09T18:15:17.322812Z",
     "shell.execute_reply.started": "2025-07-09T18:15:17.319122Z"
    },
    "gather": {
     "logged": 1747212047485
    }
   },
   "outputs": [
    {
     "data": {
      "text/plain": [
       "(365, 30)"
      ]
     },
     "execution_count": 9,
     "metadata": {},
     "output_type": "execute_result"
    }
   ],
   "source": [
    "merged_data.shape"
   ]
  },
  {
   "cell_type": "code",
   "execution_count": 10,
   "id": "8yIaPkji8i81",
   "metadata": {
    "colab": {
     "base_uri": "https://localhost:8080/"
    },
    "execution": {
     "iopub.execute_input": "2025-07-09T18:15:17.422807Z",
     "iopub.status.busy": "2025-07-09T18:15:17.422187Z",
     "iopub.status.idle": "2025-07-09T18:15:17.446136Z",
     "shell.execute_reply": "2025-07-09T18:15:17.445520Z",
     "shell.execute_reply.started": "2025-07-09T18:15:17.422780Z"
    },
    "executionInfo": {
     "elapsed": 2,
     "status": "ok",
     "timestamp": 1742446956706,
     "user": {
      "displayName": "",
      "userId": ""
     },
     "user_tz": -330
    },
    "gather": {
     "logged": 1747212047748
    },
    "id": "8yIaPkji8i81",
    "outputId": "76103848-cdf7-47e0-b9df-205f78f5f3e7"
   },
   "outputs": [
    {
     "data": {
      "text/html": [
       "<div>\n",
       "<style scoped>\n",
       "    .dataframe tbody tr th:only-of-type {\n",
       "        vertical-align: middle;\n",
       "    }\n",
       "\n",
       "    .dataframe tbody tr th {\n",
       "        vertical-align: top;\n",
       "    }\n",
       "\n",
       "    .dataframe thead th {\n",
       "        text-align: right;\n",
       "    }\n",
       "</style>\n",
       "<table border=\"1\" class=\"dataframe\">\n",
       "  <thead>\n",
       "    <tr style=\"text-align: right;\">\n",
       "      <th></th>\n",
       "      <th>Date</th>\n",
       "      <th>UnitsSold</th>\n",
       "      <th>PriceElasticity</th>\n",
       "      <th>PriceDiff_Nirma</th>\n",
       "      <th>PriceDiff_SurfExcel</th>\n",
       "      <th>DiscountDiff_Nirma</th>\n",
       "      <th>DiscountDiff_SurfExcel</th>\n",
       "      <th>OnDiscount</th>\n",
       "    </tr>\n",
       "  </thead>\n",
       "  <tbody>\n",
       "    <tr>\n",
       "      <th>0</th>\n",
       "      <td>2021-01-01</td>\n",
       "      <td>12</td>\n",
       "      <td>NaN</td>\n",
       "      <td>13.28</td>\n",
       "      <td>-9.29</td>\n",
       "      <td>-0.989394</td>\n",
       "      <td>-0.989394</td>\n",
       "      <td>0</td>\n",
       "    </tr>\n",
       "    <tr>\n",
       "      <th>1</th>\n",
       "      <td>2021-01-02</td>\n",
       "      <td>10</td>\n",
       "      <td>1.269440</td>\n",
       "      <td>3.93</td>\n",
       "      <td>-15.26</td>\n",
       "      <td>-0.859495</td>\n",
       "      <td>-0.789495</td>\n",
       "      <td>0</td>\n",
       "    </tr>\n",
       "    <tr>\n",
       "      <th>2</th>\n",
       "      <td>2021-01-03</td>\n",
       "      <td>4</td>\n",
       "      <td>-6.511990</td>\n",
       "      <td>13.60</td>\n",
       "      <td>-12.90</td>\n",
       "      <td>-0.938687</td>\n",
       "      <td>-0.938687</td>\n",
       "      <td>0</td>\n",
       "    </tr>\n",
       "    <tr>\n",
       "      <th>3</th>\n",
       "      <td>2021-01-04</td>\n",
       "      <td>7</td>\n",
       "      <td>-25.909851</td>\n",
       "      <td>13.52</td>\n",
       "      <td>-11.12</td>\n",
       "      <td>-0.911515</td>\n",
       "      <td>-0.911515</td>\n",
       "      <td>0</td>\n",
       "    </tr>\n",
       "    <tr>\n",
       "      <th>4</th>\n",
       "      <td>2021-01-05</td>\n",
       "      <td>12</td>\n",
       "      <td>26.525573</td>\n",
       "      <td>32.67</td>\n",
       "      <td>-14.40</td>\n",
       "      <td>-0.696061</td>\n",
       "      <td>-0.936061</td>\n",
       "      <td>1</td>\n",
       "    </tr>\n",
       "  </tbody>\n",
       "</table>\n",
       "</div>"
      ],
      "text/plain": [
       "        Date  UnitsSold  PriceElasticity  PriceDiff_Nirma  \\\n",
       "0 2021-01-01         12              NaN            13.28   \n",
       "1 2021-01-02         10         1.269440             3.93   \n",
       "2 2021-01-03          4        -6.511990            13.60   \n",
       "3 2021-01-04          7       -25.909851            13.52   \n",
       "4 2021-01-05         12        26.525573            32.67   \n",
       "\n",
       "   PriceDiff_SurfExcel  DiscountDiff_Nirma  DiscountDiff_SurfExcel  OnDiscount  \n",
       "0                -9.29           -0.989394               -0.989394           0  \n",
       "1               -15.26           -0.859495               -0.789495           0  \n",
       "2               -12.90           -0.938687               -0.938687           0  \n",
       "3               -11.12           -0.911515               -0.911515           0  \n",
       "4               -14.40           -0.696061               -0.936061           1  "
      ]
     },
     "execution_count": 10,
     "metadata": {},
     "output_type": "execute_result"
    }
   ],
   "source": [
    "# 1. Price Elasticity (change in units sold and price)\n",
    "merged_data['PriceChangePct'] = merged_data['SellingPrice'].pct_change() * 100\n",
    "merged_data['UnitsSoldChangePct'] = merged_data['UnitsSold'].pct_change() * 100\n",
    "merged_data['PriceElasticity'] = merged_data['UnitsSoldChangePct'] / merged_data['PriceChangePct']\n",
    "\n",
    "merged_data['PriceChangePct'].fillna(0)\n",
    "merged_data['UnitsSoldChangePct'].fillna(0)\n",
    "merged_data['PriceElasticity'].fillna(0)\n",
    "\n",
    "# 2. Price Difference from Competitors\n",
    "merged_data['PriceDiff_Nirma'] = merged_data['SellingPrice'] - merged_data['FinalPrice_Nirma']\n",
    "merged_data['PriceDiff_SurfExcel'] = merged_data['SellingPrice'] - merged_data['FinalPrice_Surf Excel']\n",
    "\n",
    "# 3. Discount Difference\n",
    "merged_data['DiscountDiff_Nirma'] = merged_data['DiscountRate_Nirma'] - (merged_data['SellingPrice'] / merged_data['MRP'])\n",
    "merged_data['DiscountDiff_SurfExcel'] = merged_data['DiscountRate_Surf Excel'] - (merged_data['SellingPrice'] / merged_data['MRP'])\n",
    "\n",
    "# 4. Log-transformed price (already provided as 'LogSellingPrice')\n",
    "# It's already present, no need to recompute, but ensure it's kept in the dataset.\n",
    "\n",
    "# 5. Customer Engagement Metrics\n",
    "# You may want to aggregate these over time to observe trends and customer behavior changes:\n",
    "# merged_data['AvgCTR'] = merged_data['CTR'].rolling(window=7).mean()\n",
    "# merged_data['AvgBounceRate'] = merged_data['BounceRate'].rolling(window=7).mean()\n",
    "# merged_data['AvgSessionDuration'] = merged_data['AvgSessionDuration_sec'].rolling(window=7).mean()\n",
    "\n",
    "# 6. Create additional features based on trends and rolling statistics:\n",
    "# merged_data['UnitsSold_7DayAvg'] = merged_data['UnitsSold'].rolling(window=7).mean()\n",
    "# merged_data['Demand_7DayAvg'] = merged_data['Demand'].rolling(window=7).mean()\n",
    "\n",
    "# 7. Create a feature to capture whether a product was on discount during a given period\n",
    "merged_data['OnDiscount'] = np.where(merged_data['DiscountRate_Nirma'] > 0.1, 1, 0)\n",
    "\n",
    "\n",
    "# Display the newly created features\n",
    "merged_data[['Date', 'UnitsSold', 'PriceElasticity', 'PriceDiff_Nirma', 'PriceDiff_SurfExcel', 'DiscountDiff_Nirma', 'DiscountDiff_SurfExcel', 'OnDiscount']].head()\n"
   ]
  },
  {
   "cell_type": "code",
   "execution_count": 11,
   "id": "5IqrTTUyQoIg",
   "metadata": {
    "colab": {
     "base_uri": "https://localhost:8080/"
    },
    "execution": {
     "iopub.execute_input": "2025-07-09T18:15:17.704479Z",
     "iopub.status.busy": "2025-07-09T18:15:17.703873Z",
     "iopub.status.idle": "2025-07-09T18:15:17.708931Z",
     "shell.execute_reply": "2025-07-09T18:15:17.708175Z",
     "shell.execute_reply.started": "2025-07-09T18:15:17.704452Z"
    },
    "executionInfo": {
     "elapsed": 727,
     "status": "ok",
     "timestamp": 1742446964034,
     "user": {
      "displayName": "",
      "userId": ""
     },
     "user_tz": -330
    },
    "gather": {
     "logged": 1747212047987
    },
    "id": "5IqrTTUyQoIg",
    "outputId": "e0e32084-06e8-4b61-ed5d-87687b57258a"
   },
   "outputs": [],
   "source": [
    "merged_data['PriceChangePct'].fillna(0, inplace=True)\n",
    "merged_data['UnitsSoldChangePct'].fillna(0, inplace=True)\n",
    "merged_data['PriceElasticity'].fillna(0, inplace=True)"
   ]
  },
  {
   "cell_type": "code",
   "execution_count": 12,
   "id": "Xv9kcP3S8Wvt",
   "metadata": {
    "execution": {
     "iopub.execute_input": "2025-07-09T18:15:18.488284Z",
     "iopub.status.busy": "2025-07-09T18:15:18.487655Z",
     "iopub.status.idle": "2025-07-09T18:15:18.497109Z",
     "shell.execute_reply": "2025-07-09T18:15:18.496325Z",
     "shell.execute_reply.started": "2025-07-09T18:15:18.488255Z"
    },
    "gather": {
     "logged": 1747212048272
    },
    "id": "Xv9kcP3S8Wvt"
   },
   "outputs": [],
   "source": [
    "merged_data[merged_data.select_dtypes(include=['float']).columns] = merged_data.select_dtypes(include=['float']).round(2)"
   ]
  },
  {
   "cell_type": "code",
   "execution_count": 13,
   "id": "iIoikTLD9ZjB",
   "metadata": {
    "colab": {
     "base_uri": "https://localhost:8080/"
    },
    "execution": {
     "iopub.execute_input": "2025-07-09T18:15:18.866361Z",
     "iopub.status.busy": "2025-07-09T18:15:18.865696Z",
     "iopub.status.idle": "2025-07-09T18:15:18.870901Z",
     "shell.execute_reply": "2025-07-09T18:15:18.869912Z",
     "shell.execute_reply.started": "2025-07-09T18:15:18.866337Z"
    },
    "executionInfo": {
     "elapsed": 6,
     "status": "ok",
     "timestamp": 1742447429583,
     "user": {
      "displayName": "",
      "userId": ""
     },
     "user_tz": -330
    },
    "gather": {
     "logged": 1747212048618
    },
    "id": "iIoikTLD9ZjB",
    "outputId": "e1c3dc92-a1c0-49d0-b974-5a67d621defc"
   },
   "outputs": [
    {
     "data": {
      "text/plain": [
       "Index(['Date', 'MRP', 'NoPromoPrice', 'SellingPrice', 'UnitsSold',\n",
       "       'StockStart', 'Demand', 'DemandFulfilled', 'Backorders', 'StockEnd',\n",
       "       'ReorderPoint', 'OrderPlaced', 'OrderQty', 'LeadTimeFloat',\n",
       "       'SafetyStock', 'CTR', 'AbandonedCartRate', 'BounceRate',\n",
       "       'FunnelDrop_ViewToCart', 'FunnelDrop_CartToCheckout',\n",
       "       'ReturningVisitorRatio', 'AvgSessionDuration_sec', 'MRP_Nirma',\n",
       "       'MRP_Surf Excel', 'DiscountRate_Nirma', 'DiscountRate_Surf Excel',\n",
       "       'BasePrice_Nirma', 'BasePrice_Surf Excel', 'FinalPrice_Nirma',\n",
       "       'FinalPrice_Surf Excel', 'PriceChangePct', 'UnitsSoldChangePct',\n",
       "       'PriceElasticity', 'PriceDiff_Nirma', 'PriceDiff_SurfExcel',\n",
       "       'DiscountDiff_Nirma', 'DiscountDiff_SurfExcel', 'OnDiscount'],\n",
       "      dtype='object')"
      ]
     },
     "execution_count": 13,
     "metadata": {},
     "output_type": "execute_result"
    }
   ],
   "source": [
    "merged_data.keys()"
   ]
  },
  {
   "cell_type": "code",
   "execution_count": 14,
   "id": "fxrTCWbA8qJC",
   "metadata": {
    "execution": {
     "iopub.execute_input": "2025-07-09T18:15:19.225689Z",
     "iopub.status.busy": "2025-07-09T18:15:19.224904Z",
     "iopub.status.idle": "2025-07-09T18:15:19.237755Z",
     "shell.execute_reply": "2025-07-09T18:15:19.236853Z",
     "shell.execute_reply.started": "2025-07-09T18:15:19.225659Z"
    },
    "gather": {
     "logged": 1747212048909
    },
    "id": "fxrTCWbA8qJC"
   },
   "outputs": [],
   "source": [
    "import numpy as np\n",
    "\n",
    "# Define threshold for large values\n",
    "threshold = 1e308\n",
    "\n",
    "# Replace infinite values with NaN\n",
    "merged_data.replace([np.inf, -np.inf], np.nan, inplace=True)\n",
    "\n",
    "# Drop rows with NaN (which were originally inf values)\n",
    "merged_data.dropna(inplace=True)\n",
    "\n",
    "# Select only float columns\n",
    "float_cols = merged_data.select_dtypes(include=[np.number]).columns\n",
    "\n",
    "# Drop rows where any float column has values greater than the threshold\n",
    "merged_data = merged_data[(merged_data[float_cols] < threshold).all(axis=1)]\n",
    "\n",
    "# Reset index after dropping rows\n",
    "merged_data.reset_index(drop=True, inplace=True)\n"
   ]
  },
  {
   "cell_type": "code",
   "execution_count": 15,
   "id": "AKUhgKLfBU2A",
   "metadata": {
    "execution": {
     "iopub.execute_input": "2025-07-09T18:15:19.565375Z",
     "iopub.status.busy": "2025-07-09T18:15:19.565083Z",
     "iopub.status.idle": "2025-07-09T18:15:19.568546Z",
     "shell.execute_reply": "2025-07-09T18:15:19.567902Z",
     "shell.execute_reply.started": "2025-07-09T18:15:19.565353Z"
    },
    "gather": {
     "logged": 1747212049085
    },
    "id": "AKUhgKLfBU2A"
   },
   "outputs": [],
   "source": [
    "min_float64 = np.finfo(np.float64).min\n",
    "max_float64 = np.finfo(np.float64).max"
   ]
  },
  {
   "cell_type": "code",
   "execution_count": 16,
   "id": "sk66cal29sQ3",
   "metadata": {
    "execution": {
     "iopub.execute_input": "2025-07-09T18:15:19.924771Z",
     "iopub.status.busy": "2025-07-09T18:15:19.924135Z",
     "iopub.status.idle": "2025-07-09T18:15:19.928998Z",
     "shell.execute_reply": "2025-07-09T18:15:19.928253Z",
     "shell.execute_reply.started": "2025-07-09T18:15:19.924742Z"
    },
    "gather": {
     "logged": 1747212049296
    },
    "id": "sk66cal29sQ3"
   },
   "outputs": [],
   "source": [
    "# Check if 'sellingprice' is within the float64 range\n",
    "merged_data['sellingprice_within_range'] = merged_data['SellingPrice'].between(min_float64, max_float64)\n",
    "\n",
    "# Check if 'date' is within the float64 range\n",
    "# merged_data['date_within_range'] = merged_data['Date'].between(min_float64, max_float64)"
   ]
  },
  {
   "cell_type": "code",
   "execution_count": 17,
   "id": "vamYytEs9NYf",
   "metadata": {
    "execution": {
     "iopub.execute_input": "2025-07-09T18:15:20.334164Z",
     "iopub.status.busy": "2025-07-09T18:15:20.333904Z",
     "iopub.status.idle": "2025-07-09T18:15:20.401536Z",
     "shell.execute_reply": "2025-07-09T18:15:20.400621Z",
     "shell.execute_reply.started": "2025-07-09T18:15:20.334144Z"
    },
    "gather": {
     "logged": 1747212049484
    },
    "id": "vamYytEs9NYf"
   },
   "outputs": [],
   "source": [
    "from sklearn.preprocessing import LabelEncoder\n",
    "# Encode 'sellingprice_within_range' column\n",
    "label_encoder = LabelEncoder()\n",
    "merged_data['sellingprice_within_range'] = label_encoder.fit_transform(merged_data['sellingprice_within_range'])"
   ]
  },
  {
   "cell_type": "code",
   "execution_count": 18,
   "id": "rkpqZf5V-uez",
   "metadata": {
    "colab": {
     "base_uri": "https://localhost:8080/",
     "height": 1000
    },
    "execution": {
     "iopub.execute_input": "2025-07-09T18:15:20.742599Z",
     "iopub.status.busy": "2025-07-09T18:15:20.741842Z",
     "iopub.status.idle": "2025-07-09T18:15:20.850368Z",
     "shell.execute_reply": "2025-07-09T18:15:20.849788Z",
     "shell.execute_reply.started": "2025-07-09T18:15:20.742566Z"
    },
    "executionInfo": {
     "elapsed": 709,
     "status": "ok",
     "timestamp": 1742448857207,
     "user": {
      "displayName": "",
      "userId": ""
     },
     "user_tz": -330
    },
    "gather": {
     "logged": 1747212049777
    },
    "id": "rkpqZf5V-uez",
    "outputId": "54a1d57e-41aa-4d8e-ccfd-1be7aeeaf06a"
   },
   "outputs": [
    {
     "name": "stdout",
     "output_type": "stream",
     "text": [
      "<class 'pandas.core.frame.DataFrame'>\n",
      "RangeIndex: 364 entries, 0 to 363\n",
      "Data columns (total 39 columns):\n",
      " #   Column                     Non-Null Count  Dtype         \n",
      "---  ------                     --------------  -----         \n",
      " 0   Date                       364 non-null    datetime64[ns]\n",
      " 1   MRP                        364 non-null    float64       \n",
      " 2   NoPromoPrice               364 non-null    float64       \n",
      " 3   SellingPrice               364 non-null    float64       \n",
      " 4   UnitsSold                  364 non-null    int64         \n",
      " 5   StockStart                 364 non-null    int64         \n",
      " 6   Demand                     364 non-null    int64         \n",
      " 7   DemandFulfilled            364 non-null    int64         \n",
      " 8   Backorders                 364 non-null    int64         \n",
      " 9   StockEnd                   364 non-null    int64         \n",
      " 10  ReorderPoint               364 non-null    int64         \n",
      " 11  OrderPlaced                364 non-null    int64         \n",
      " 12  OrderQty                   364 non-null    int64         \n",
      " 13  LeadTimeFloat              364 non-null    float64       \n",
      " 14  SafetyStock                364 non-null    float64       \n",
      " 15  CTR                        364 non-null    float64       \n",
      " 16  AbandonedCartRate          364 non-null    float64       \n",
      " 17  BounceRate                 364 non-null    float64       \n",
      " 18  FunnelDrop_ViewToCart      364 non-null    float64       \n",
      " 19  FunnelDrop_CartToCheckout  364 non-null    float64       \n",
      " 20  ReturningVisitorRatio      364 non-null    float64       \n",
      " 21  AvgSessionDuration_sec     364 non-null    float64       \n",
      " 22  MRP_Nirma                  364 non-null    float64       \n",
      " 23  MRP_Surf Excel             364 non-null    float64       \n",
      " 24  DiscountRate_Nirma         364 non-null    float64       \n",
      " 25  DiscountRate_Surf Excel    364 non-null    float64       \n",
      " 26  BasePrice_Nirma            364 non-null    float64       \n",
      " 27  BasePrice_Surf Excel       364 non-null    float64       \n",
      " 28  FinalPrice_Nirma           364 non-null    float64       \n",
      " 29  FinalPrice_Surf Excel      364 non-null    float64       \n",
      " 30  PriceChangePct             364 non-null    float64       \n",
      " 31  UnitsSoldChangePct         364 non-null    float64       \n",
      " 32  PriceElasticity            364 non-null    float64       \n",
      " 33  PriceDiff_Nirma            364 non-null    float64       \n",
      " 34  PriceDiff_SurfExcel        364 non-null    float64       \n",
      " 35  DiscountDiff_Nirma         364 non-null    float64       \n",
      " 36  DiscountDiff_SurfExcel     364 non-null    float64       \n",
      " 37  OnDiscount                 364 non-null    int64         \n",
      " 38  sellingprice_within_range  364 non-null    int64         \n",
      "dtypes: datetime64[ns](1), float64(27), int64(11)\n",
      "memory usage: 111.0 KB\n"
     ]
    },
    {
     "data": {
      "text/html": [
       "<div>\n",
       "<style scoped>\n",
       "    .dataframe tbody tr th:only-of-type {\n",
       "        vertical-align: middle;\n",
       "    }\n",
       "\n",
       "    .dataframe tbody tr th {\n",
       "        vertical-align: top;\n",
       "    }\n",
       "\n",
       "    .dataframe thead th {\n",
       "        text-align: right;\n",
       "    }\n",
       "</style>\n",
       "<table border=\"1\" class=\"dataframe\">\n",
       "  <thead>\n",
       "    <tr style=\"text-align: right;\">\n",
       "      <th></th>\n",
       "      <th>Date</th>\n",
       "      <th>MRP</th>\n",
       "      <th>NoPromoPrice</th>\n",
       "      <th>SellingPrice</th>\n",
       "      <th>UnitsSold</th>\n",
       "      <th>StockStart</th>\n",
       "      <th>Demand</th>\n",
       "      <th>DemandFulfilled</th>\n",
       "      <th>Backorders</th>\n",
       "      <th>StockEnd</th>\n",
       "      <th>...</th>\n",
       "      <th>FinalPrice_Surf Excel</th>\n",
       "      <th>PriceChangePct</th>\n",
       "      <th>UnitsSoldChangePct</th>\n",
       "      <th>PriceElasticity</th>\n",
       "      <th>PriceDiff_Nirma</th>\n",
       "      <th>PriceDiff_SurfExcel</th>\n",
       "      <th>DiscountDiff_Nirma</th>\n",
       "      <th>DiscountDiff_SurfExcel</th>\n",
       "      <th>OnDiscount</th>\n",
       "      <th>sellingprice_within_range</th>\n",
       "    </tr>\n",
       "  </thead>\n",
       "  <tbody>\n",
       "    <tr>\n",
       "      <th>count</th>\n",
       "      <td>364</td>\n",
       "      <td>364.000000</td>\n",
       "      <td>364.000000</td>\n",
       "      <td>364.000000</td>\n",
       "      <td>364.000000</td>\n",
       "      <td>364.000000</td>\n",
       "      <td>364.000000</td>\n",
       "      <td>364.000000</td>\n",
       "      <td>364.000000</td>\n",
       "      <td>364.000000</td>\n",
       "      <td>...</td>\n",
       "      <td>364.000000</td>\n",
       "      <td>364.000000</td>\n",
       "      <td>364.000000</td>\n",
       "      <td>364.000000</td>\n",
       "      <td>364.000000</td>\n",
       "      <td>364.000000</td>\n",
       "      <td>364.000000</td>\n",
       "      <td>364.000000</td>\n",
       "      <td>364.000000</td>\n",
       "      <td>364.0</td>\n",
       "    </tr>\n",
       "    <tr>\n",
       "      <th>mean</th>\n",
       "      <td>2021-07-01 18:47:28.351648512</td>\n",
       "      <td>101.488599</td>\n",
       "      <td>89.713297</td>\n",
       "      <td>88.573626</td>\n",
       "      <td>8.640110</td>\n",
       "      <td>41448.266484</td>\n",
       "      <td>1948.736264</td>\n",
       "      <td>1940.568681</td>\n",
       "      <td>8.167582</td>\n",
       "      <td>98.741758</td>\n",
       "      <td>...</td>\n",
       "      <td>105.273104</td>\n",
       "      <td>0.325824</td>\n",
       "      <td>48.992390</td>\n",
       "      <td>-1.682335</td>\n",
       "      <td>10.382967</td>\n",
       "      <td>-16.699478</td>\n",
       "      <td>-0.849011</td>\n",
       "      <td>-0.866978</td>\n",
       "      <td>0.118132</td>\n",
       "      <td>0.0</td>\n",
       "    </tr>\n",
       "    <tr>\n",
       "      <th>min</th>\n",
       "      <td>2021-01-01 00:00:00</td>\n",
       "      <td>99.000000</td>\n",
       "      <td>71.740000</td>\n",
       "      <td>66.440000</td>\n",
       "      <td>0.000000</td>\n",
       "      <td>12691.000000</td>\n",
       "      <td>1356.000000</td>\n",
       "      <td>1356.000000</td>\n",
       "      <td>0.000000</td>\n",
       "      <td>0.000000</td>\n",
       "      <td>...</td>\n",
       "      <td>86.530000</td>\n",
       "      <td>-27.050000</td>\n",
       "      <td>-100.000000</td>\n",
       "      <td>-2583.900000</td>\n",
       "      <td>-17.260000</td>\n",
       "      <td>-36.710000</td>\n",
       "      <td>-1.000000</td>\n",
       "      <td>-1.000000</td>\n",
       "      <td>0.000000</td>\n",
       "      <td>0.0</td>\n",
       "    </tr>\n",
       "    <tr>\n",
       "      <th>25%</th>\n",
       "      <td>2021-04-01 18:00:00</td>\n",
       "      <td>99.000000</td>\n",
       "      <td>86.267500</td>\n",
       "      <td>85.082500</td>\n",
       "      <td>5.000000</td>\n",
       "      <td>37600.000000</td>\n",
       "      <td>1747.000000</td>\n",
       "      <td>1738.000000</td>\n",
       "      <td>0.000000</td>\n",
       "      <td>37.750000</td>\n",
       "      <td>...</td>\n",
       "      <td>103.685000</td>\n",
       "      <td>-6.287500</td>\n",
       "      <td>-44.440000</td>\n",
       "      <td>-8.732500</td>\n",
       "      <td>4.560000</td>\n",
       "      <td>-21.590000</td>\n",
       "      <td>-0.900000</td>\n",
       "      <td>-0.910000</td>\n",
       "      <td>0.000000</td>\n",
       "      <td>0.0</td>\n",
       "    </tr>\n",
       "    <tr>\n",
       "      <th>50%</th>\n",
       "      <td>2021-07-01 12:00:00</td>\n",
       "      <td>103.950000</td>\n",
       "      <td>89.715000</td>\n",
       "      <td>88.995000</td>\n",
       "      <td>8.000000</td>\n",
       "      <td>41443.000000</td>\n",
       "      <td>1929.500000</td>\n",
       "      <td>1913.000000</td>\n",
       "      <td>0.000000</td>\n",
       "      <td>94.000000</td>\n",
       "      <td>...</td>\n",
       "      <td>106.335000</td>\n",
       "      <td>-0.175000</td>\n",
       "      <td>0.000000</td>\n",
       "      <td>-0.000000</td>\n",
       "      <td>10.060000</td>\n",
       "      <td>-16.710000</td>\n",
       "      <td>-0.860000</td>\n",
       "      <td>-0.870000</td>\n",
       "      <td>0.000000</td>\n",
       "      <td>0.0</td>\n",
       "    </tr>\n",
       "    <tr>\n",
       "      <th>75%</th>\n",
       "      <td>2021-10-01 06:00:00</td>\n",
       "      <td>103.950000</td>\n",
       "      <td>93.212500</td>\n",
       "      <td>92.607500</td>\n",
       "      <td>12.000000</td>\n",
       "      <td>46003.250000</td>\n",
       "      <td>2115.500000</td>\n",
       "      <td>2115.500000</td>\n",
       "      <td>0.000000</td>\n",
       "      <td>153.000000</td>\n",
       "      <td>...</td>\n",
       "      <td>107.960000</td>\n",
       "      <td>6.180000</td>\n",
       "      <td>66.670000</td>\n",
       "      <td>8.882500</td>\n",
       "      <td>15.757500</td>\n",
       "      <td>-12.355000</td>\n",
       "      <td>-0.810000</td>\n",
       "      <td>-0.830000</td>\n",
       "      <td>0.000000</td>\n",
       "      <td>0.0</td>\n",
       "    </tr>\n",
       "    <tr>\n",
       "      <th>max</th>\n",
       "      <td>2021-12-31 00:00:00</td>\n",
       "      <td>103.950000</td>\n",
       "      <td>103.840000</td>\n",
       "      <td>103.840000</td>\n",
       "      <td>34.000000</td>\n",
       "      <td>60621.000000</td>\n",
       "      <td>2808.000000</td>\n",
       "      <td>2808.000000</td>\n",
       "      <td>216.000000</td>\n",
       "      <td>329.000000</td>\n",
       "      <td>...</td>\n",
       "      <td>109.990000</td>\n",
       "      <td>35.840000</td>\n",
       "      <td>1400.000000</td>\n",
       "      <td>2272.000000</td>\n",
       "      <td>37.280000</td>\n",
       "      <td>13.770000</td>\n",
       "      <td>-0.510000</td>\n",
       "      <td>-0.620000</td>\n",
       "      <td>1.000000</td>\n",
       "      <td>0.0</td>\n",
       "    </tr>\n",
       "    <tr>\n",
       "      <th>std</th>\n",
       "      <td>NaN</td>\n",
       "      <td>2.478369</td>\n",
       "      <td>5.101517</td>\n",
       "      <td>6.020082</td>\n",
       "      <td>4.817282</td>\n",
       "      <td>7915.534638</td>\n",
       "      <td>275.647071</td>\n",
       "      <td>274.623024</td>\n",
       "      <td>27.939071</td>\n",
       "      <td>74.172788</td>\n",
       "      <td>...</td>\n",
       "      <td>3.955099</td>\n",
       "      <td>9.487634</td>\n",
       "      <td>167.791611</td>\n",
       "      <td>228.838651</td>\n",
       "      <td>9.325165</td>\n",
       "      <td>7.274557</td>\n",
       "      <td>0.082923</td>\n",
       "      <td>0.065666</td>\n",
       "      <td>0.323208</td>\n",
       "      <td>0.0</td>\n",
       "    </tr>\n",
       "  </tbody>\n",
       "</table>\n",
       "<p>8 rows × 39 columns</p>\n",
       "</div>"
      ],
      "text/plain": [
       "                                Date         MRP  NoPromoPrice  SellingPrice  \\\n",
       "count                            364  364.000000    364.000000    364.000000   \n",
       "mean   2021-07-01 18:47:28.351648512  101.488599     89.713297     88.573626   \n",
       "min              2021-01-01 00:00:00   99.000000     71.740000     66.440000   \n",
       "25%              2021-04-01 18:00:00   99.000000     86.267500     85.082500   \n",
       "50%              2021-07-01 12:00:00  103.950000     89.715000     88.995000   \n",
       "75%              2021-10-01 06:00:00  103.950000     93.212500     92.607500   \n",
       "max              2021-12-31 00:00:00  103.950000    103.840000    103.840000   \n",
       "std                              NaN    2.478369      5.101517      6.020082   \n",
       "\n",
       "        UnitsSold    StockStart       Demand  DemandFulfilled  Backorders  \\\n",
       "count  364.000000    364.000000   364.000000       364.000000  364.000000   \n",
       "mean     8.640110  41448.266484  1948.736264      1940.568681    8.167582   \n",
       "min      0.000000  12691.000000  1356.000000      1356.000000    0.000000   \n",
       "25%      5.000000  37600.000000  1747.000000      1738.000000    0.000000   \n",
       "50%      8.000000  41443.000000  1929.500000      1913.000000    0.000000   \n",
       "75%     12.000000  46003.250000  2115.500000      2115.500000    0.000000   \n",
       "max     34.000000  60621.000000  2808.000000      2808.000000  216.000000   \n",
       "std      4.817282   7915.534638   275.647071       274.623024   27.939071   \n",
       "\n",
       "         StockEnd  ...  FinalPrice_Surf Excel  PriceChangePct  \\\n",
       "count  364.000000  ...             364.000000      364.000000   \n",
       "mean    98.741758  ...             105.273104        0.325824   \n",
       "min      0.000000  ...              86.530000      -27.050000   \n",
       "25%     37.750000  ...             103.685000       -6.287500   \n",
       "50%     94.000000  ...             106.335000       -0.175000   \n",
       "75%    153.000000  ...             107.960000        6.180000   \n",
       "max    329.000000  ...             109.990000       35.840000   \n",
       "std     74.172788  ...               3.955099        9.487634   \n",
       "\n",
       "       UnitsSoldChangePct  PriceElasticity  PriceDiff_Nirma  \\\n",
       "count          364.000000       364.000000       364.000000   \n",
       "mean            48.992390        -1.682335        10.382967   \n",
       "min           -100.000000     -2583.900000       -17.260000   \n",
       "25%            -44.440000        -8.732500         4.560000   \n",
       "50%              0.000000        -0.000000        10.060000   \n",
       "75%             66.670000         8.882500        15.757500   \n",
       "max           1400.000000      2272.000000        37.280000   \n",
       "std            167.791611       228.838651         9.325165   \n",
       "\n",
       "       PriceDiff_SurfExcel  DiscountDiff_Nirma  DiscountDiff_SurfExcel  \\\n",
       "count           364.000000          364.000000              364.000000   \n",
       "mean            -16.699478           -0.849011               -0.866978   \n",
       "min             -36.710000           -1.000000               -1.000000   \n",
       "25%             -21.590000           -0.900000               -0.910000   \n",
       "50%             -16.710000           -0.860000               -0.870000   \n",
       "75%             -12.355000           -0.810000               -0.830000   \n",
       "max              13.770000           -0.510000               -0.620000   \n",
       "std               7.274557            0.082923                0.065666   \n",
       "\n",
       "       OnDiscount  sellingprice_within_range  \n",
       "count  364.000000                      364.0  \n",
       "mean     0.118132                        0.0  \n",
       "min      0.000000                        0.0  \n",
       "25%      0.000000                        0.0  \n",
       "50%      0.000000                        0.0  \n",
       "75%      0.000000                        0.0  \n",
       "max      1.000000                        0.0  \n",
       "std      0.323208                        0.0  \n",
       "\n",
       "[8 rows x 39 columns]"
      ]
     },
     "execution_count": 18,
     "metadata": {},
     "output_type": "execute_result"
    }
   ],
   "source": [
    "merged_data.isnull().sum()\n",
    "merged_data.duplicated\n",
    "merged_data.info()\n",
    "merged_data.describe()\n"
   ]
  },
  {
   "cell_type": "code",
   "execution_count": 21,
   "id": "f103dab3-6079-4862-9684-66b92aabcdee",
   "metadata": {
    "execution": {
     "iopub.execute_input": "2025-07-09T18:16:35.219826Z",
     "iopub.status.busy": "2025-07-09T18:16:35.219322Z",
     "iopub.status.idle": "2025-07-09T18:16:35.233378Z",
     "shell.execute_reply": "2025-07-09T18:16:35.232482Z",
     "shell.execute_reply.started": "2025-07-09T18:16:35.219804Z"
    }
   },
   "outputs": [],
   "source": [
    "merged_data.to_csv(r\"../aws_retail_ds_exp/training_data.csv\")"
   ]
  },
  {
   "cell_type": "code",
   "execution_count": null,
   "id": "36aa0f07-6014-4ae4-b3bb-673021f80260",
   "metadata": {},
   "outputs": [],
   "source": []
  }
 ],
 "metadata": {
  "colab": {
   "name": "data.ipynb",
   "provenance": []
  },
  "kernel_info": {
   "name": "python310-sdkv2"
  },
  "kernelspec": {
   "display_name": "Python 3 (ipykernel)",
   "language": "python",
   "name": "python3"
  },
  "language_info": {
   "codemirror_mode": {
    "name": "ipython",
    "version": 3
   },
   "file_extension": ".py",
   "mimetype": "text/x-python",
   "name": "python",
   "nbconvert_exporter": "python",
   "pygments_lexer": "ipython3",
   "version": "3.11.11"
  },
  "microsoft": {
   "ms_spell_check": {
    "ms_spell_check_language": "en"
   }
  },
  "nteract": {
   "version": "nteract-front-end@1.0.0"
  }
 },
 "nbformat": 4,
 "nbformat_minor": 5
}
