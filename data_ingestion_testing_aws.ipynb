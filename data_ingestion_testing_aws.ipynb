{
 "cells": [
  {
   "cell_type": "code",
   "execution_count": 29,
   "id": "23647ad0-b728-4280-bda0-f6aa4f38ee3d",
   "metadata": {
    "execution": {
     "iopub.execute_input": "2025-07-09T20:24:43.387979Z",
     "iopub.status.busy": "2025-07-09T20:24:43.387475Z",
     "iopub.status.idle": "2025-07-09T20:24:43.434450Z",
     "shell.execute_reply": "2025-07-09T20:24:43.433612Z",
     "shell.execute_reply.started": "2025-07-09T20:24:43.387957Z"
    }
   },
   "outputs": [],
   "source": [
    "import pandas as pd \n",
    "\n",
    "sales = pd.read_csv(r\"../aws_retail_ds_exp/Sales Data.csv\")\n",
    "inventory = pd.read_csv(r\"../aws_retail_ds_exp/Inventory Data.csv\")\n",
    "pricing = pd.read_csv(r\"../aws_retail_ds_exp/Competitor Pricing Data.csv\")\n",
    "behavior = pd.read_csv(r\"../aws_retail_ds_exp/Daily Customer Behavior.csv\")"
   ]
  },
  {
   "cell_type": "markdown",
   "id": "355caa44-8c6b-4556-af32-ed5e03251894",
   "metadata": {},
   "source": [
    "{\n",
    "    \"Version\": \"2012-10-17\",\n",
    "    \"Statement\": [\n",
    "        {\n",
    "            \"Effect\": \"Allow\",\n",
    "            \"Principal\": {\n",
    "                \"AWS\": \"arn:aws:iam::952076796066:role/datazone_usr_role_butrpxfjd1cujr_6bld1g16iori5j\"\n",
    "            },\n",
    "            \"Action\": [\n",
    "                \"s3:ListBucket\",\n",
    "                \"s3:GetObject\"\n",
    "            ],\n",
    "            \"Resource\": [\n",
    "                \"arn:aws:s3:::retaildsbucket\",\n",
    "                \"arn:aws:s3:::retaildsbucket/*\"\n",
    "            ]\n",
    "        }\n",
    "    ]\n",
    "}"
   ]
  },
  {
   "cell_type": "code",
   "execution_count": 30,
   "id": "b4358ae6-e076-427a-9dfd-c0c645e65e56",
   "metadata": {
    "execution": {
     "iopub.execute_input": "2025-07-09T20:24:44.602946Z",
     "iopub.status.busy": "2025-07-09T20:24:44.602147Z",
     "iopub.status.idle": "2025-07-09T20:24:44.606205Z",
     "shell.execute_reply": "2025-07-09T20:24:44.605402Z",
     "shell.execute_reply.started": "2025-07-09T20:24:44.602916Z"
    }
   },
   "outputs": [],
   "source": [
    "import boto3 \n",
    "import pandas as pd \n",
    "from sagemaker import get_execution_role"
   ]
  },
  {
   "cell_type": "code",
   "execution_count": 31,
   "id": "80950e09-3b31-4414-8368-94f21dc4826c",
   "metadata": {
    "execution": {
     "iopub.execute_input": "2025-07-09T20:24:44.827039Z",
     "iopub.status.busy": "2025-07-09T20:24:44.826272Z",
     "iopub.status.idle": "2025-07-09T20:24:45.811932Z",
     "shell.execute_reply": "2025-07-09T20:24:45.811247Z",
     "shell.execute_reply.started": "2025-07-09T20:24:44.827013Z"
    }
   },
   "outputs": [
    {
     "name": "stdout",
     "output_type": "stream",
     "text": [
      "sagemaker.config INFO - Applied value from config key = SageMaker.PythonSDK.Modules.Session.DefaultS3Bucket\n",
      "sagemaker.config INFO - Applied value from config key = SageMaker.PythonSDK.Modules.Session.DefaultS3ObjectKeyPrefix\n",
      "sagemaker.config INFO - Applied value from config key = SageMaker.PythonSDK.Modules.Session.DefaultS3Bucket\n",
      "sagemaker.config INFO - Applied value from config key = SageMaker.PythonSDK.Modules.Session.DefaultS3ObjectKeyPrefix\n"
     ]
    }
   ],
   "source": [
    "# Define session, role, and region so we can\n",
    "# perform any SageMaker tasks we need\n",
    "sagemaker_session = sagemaker.Session()\n",
    "role = get_execution_role()\n",
    "region = sagemaker_session.boto_region_name"
   ]
  },
  {
   "cell_type": "code",
   "execution_count": 32,
   "id": "a2ff6b11-42df-4fc2-b839-0350c9f8801b",
   "metadata": {
    "execution": {
     "iopub.execute_input": "2025-07-09T20:24:45.815861Z",
     "iopub.status.busy": "2025-07-09T20:24:45.815536Z",
     "iopub.status.idle": "2025-07-09T20:24:45.826506Z",
     "shell.execute_reply": "2025-07-09T20:24:45.825701Z",
     "shell.execute_reply.started": "2025-07-09T20:24:45.815832Z"
    }
   },
   "outputs": [],
   "source": [
    "conn = boto3.client(\"s3\")"
   ]
  },
  {
   "cell_type": "code",
   "execution_count": 33,
   "id": "be713e35-83b3-48e3-a355-c72f2b5cbb80",
   "metadata": {
    "execution": {
     "iopub.execute_input": "2025-07-09T20:24:45.829099Z",
     "iopub.status.busy": "2025-07-09T20:24:45.828802Z",
     "iopub.status.idle": "2025-07-09T20:24:45.832178Z",
     "shell.execute_reply": "2025-07-09T20:24:45.831399Z",
     "shell.execute_reply.started": "2025-07-09T20:24:45.829075Z"
    }
   },
   "outputs": [],
   "source": [
    "bucket = \"retaildsbucket\""
   ]
  },
  {
   "cell_type": "code",
   "execution_count": 34,
   "id": "68fd4d9d-1f3e-438c-b69a-d8903cec1b93",
   "metadata": {
    "execution": {
     "iopub.execute_input": "2025-07-09T20:24:45.833798Z",
     "iopub.status.busy": "2025-07-09T20:24:45.833451Z",
     "iopub.status.idle": "2025-07-09T20:24:45.907998Z",
     "shell.execute_reply": "2025-07-09T20:24:45.906983Z",
     "shell.execute_reply.started": "2025-07-09T20:24:45.833769Z"
    }
   },
   "outputs": [],
   "source": [
    "content = conn.list_objects(Bucket = bucket)[\"Contents\"]"
   ]
  },
  {
   "cell_type": "code",
   "execution_count": 35,
   "id": "0a86fb33-8cea-417f-b6fc-dee425328f91",
   "metadata": {
    "execution": {
     "iopub.execute_input": "2025-07-09T20:24:49.666753Z",
     "iopub.status.busy": "2025-07-09T20:24:49.666142Z",
     "iopub.status.idle": "2025-07-09T20:24:49.671387Z",
     "shell.execute_reply": "2025-07-09T20:24:49.670890Z",
     "shell.execute_reply.started": "2025-07-09T20:24:49.666728Z"
    }
   },
   "outputs": [
    {
     "data": {
      "text/plain": [
       "[{'Key': 'Competitor_Pricing_Data.csv',\n",
       "  'LastModified': datetime.datetime(2025, 7, 9, 20, 23, 34, tzinfo=tzlocal()),\n",
       "  'ETag': '\"cee5a0e3f6d86cb9616b9f6b4217af09\"',\n",
       "  'ChecksumAlgorithm': ['CRC64NVME'],\n",
       "  'ChecksumType': 'FULL_OBJECT',\n",
       "  'Size': 89194,\n",
       "  'StorageClass': 'STANDARD',\n",
       "  'Owner': {'DisplayName': 'mentorskoolaws20',\n",
       "   'ID': 'ec518e3c84de635f924dcb24fbdf69367c158cca85db9afb505d271e82f9b80b'}},\n",
       " {'Key': 'Daily_Customer_Behavior.csv',\n",
       "  'LastModified': datetime.datetime(2025, 7, 9, 20, 23, 35, tzinfo=tzlocal()),\n",
       "  'ETag': '\"2063d03a25e34c3915a8ad90c6697d75\"',\n",
       "  'ChecksumAlgorithm': ['CRC64NVME'],\n",
       "  'ChecksumType': 'FULL_OBJECT',\n",
       "  'Size': 21759,\n",
       "  'StorageClass': 'STANDARD',\n",
       "  'Owner': {'DisplayName': 'mentorskoolaws20',\n",
       "   'ID': 'ec518e3c84de635f924dcb24fbdf69367c158cca85db9afb505d271e82f9b80b'}},\n",
       " {'Key': 'Inventory_Data.csv',\n",
       "  'LastModified': datetime.datetime(2025, 7, 9, 20, 23, 37, tzinfo=tzlocal()),\n",
       "  'ETag': '\"4186082b72bbe2751113e3311621af12\"',\n",
       "  'ChecksumAlgorithm': ['CRC64NVME'],\n",
       "  'ChecksumType': 'FULL_OBJECT',\n",
       "  'Size': 1278342,\n",
       "  'StorageClass': 'STANDARD',\n",
       "  'Owner': {'DisplayName': 'mentorskoolaws20',\n",
       "   'ID': 'ec518e3c84de635f924dcb24fbdf69367c158cca85db9afb505d271e82f9b80b'}},\n",
       " {'Key': 'Sales_Data.csv',\n",
       "  'LastModified': datetime.datetime(2025, 7, 9, 20, 23, 38, tzinfo=tzlocal()),\n",
       "  'ETag': '\"6c31b37e23f6a0c2909cdb65d2a76cb3\"',\n",
       "  'ChecksumAlgorithm': ['CRC64NVME'],\n",
       "  'ChecksumType': 'FULL_OBJECT',\n",
       "  'Size': 35282,\n",
       "  'StorageClass': 'STANDARD',\n",
       "  'Owner': {'DisplayName': 'mentorskoolaws20',\n",
       "   'ID': 'ec518e3c84de635f924dcb24fbdf69367c158cca85db9afb505d271e82f9b80b'}}]"
      ]
     },
     "execution_count": 35,
     "metadata": {},
     "output_type": "execute_result"
    }
   ],
   "source": [
    "content"
   ]
  },
  {
   "cell_type": "code",
   "execution_count": 37,
   "id": "e3705d14-0f2d-4ab7-90c4-33d5cec081af",
   "metadata": {
    "execution": {
     "iopub.execute_input": "2025-07-09T20:25:55.940056Z",
     "iopub.status.busy": "2025-07-09T20:25:55.939793Z",
     "iopub.status.idle": "2025-07-09T20:25:55.943527Z",
     "shell.execute_reply": "2025-07-09T20:25:55.942999Z",
     "shell.execute_reply.started": "2025-07-09T20:25:55.940035Z"
    }
   },
   "outputs": [
    {
     "name": "stdout",
     "output_type": "stream",
     "text": [
      "Competitor_Pricing_Data.csv\n",
      "<class 'str'>\n",
      "Daily_Customer_Behavior.csv\n",
      "<class 'str'>\n",
      "Inventory_Data.csv\n",
      "<class 'str'>\n",
      "Sales_Data.csv\n",
      "<class 'str'>\n"
     ]
    }
   ],
   "source": [
    "for data in content:\n",
    "    print(data['Key']) \n",
    "    print(type(data['Key']))"
   ]
  },
  {
   "cell_type": "code",
   "execution_count": 38,
   "id": "f107c0b7-df53-4ff7-9c76-8e249870e4e0",
   "metadata": {
    "execution": {
     "iopub.execute_input": "2025-07-09T20:26:32.422615Z",
     "iopub.status.busy": "2025-07-09T20:26:32.422262Z",
     "iopub.status.idle": "2025-07-09T20:26:32.929660Z",
     "shell.execute_reply": "2025-07-09T20:26:32.928848Z",
     "shell.execute_reply.started": "2025-07-09T20:26:32.422590Z"
    }
   },
   "outputs": [],
   "source": [
    "import pandas as pd \n",
    "\n",
    "sales = pd.read_csv(f's3://{bucket}/{\"Sales_Data.csv\"}')\n",
    "inventory = pd.read_csv(f's3://{bucket}/{\"Inventory_Data.csv\"}')\n",
    "pricing = pd.read_csv(f's3://{bucket}/{\"Competitor_Pricing_Data.csv\"}')\n",
    "behavior = pd.read_csv(f's3://{bucket}/{\"Daily_Customer_Behavior.csv\"}')"
   ]
  },
  {
   "cell_type": "code",
   "execution_count": 39,
   "id": "eca1eda9-25db-4773-9375-ecee853e719e",
   "metadata": {
    "execution": {
     "iopub.execute_input": "2025-07-09T20:26:39.103348Z",
     "iopub.status.busy": "2025-07-09T20:26:39.102994Z",
     "iopub.status.idle": "2025-07-09T20:26:39.117564Z",
     "shell.execute_reply": "2025-07-09T20:26:39.116878Z",
     "shell.execute_reply.started": "2025-07-09T20:26:39.103323Z"
    }
   },
   "outputs": [
    {
     "data": {
      "text/html": [
       "<div>\n",
       "<style scoped>\n",
       "    .dataframe tbody tr th:only-of-type {\n",
       "        vertical-align: middle;\n",
       "    }\n",
       "\n",
       "    .dataframe tbody tr th {\n",
       "        vertical-align: top;\n",
       "    }\n",
       "\n",
       "    .dataframe thead th {\n",
       "        text-align: right;\n",
       "    }\n",
       "</style>\n",
       "<table border=\"1\" class=\"dataframe\">\n",
       "  <thead>\n",
       "    <tr style=\"text-align: right;\">\n",
       "      <th></th>\n",
       "      <th>TransactionDate</th>\n",
       "      <th>MRP</th>\n",
       "      <th>NoPromoPrice</th>\n",
       "      <th>SellingPrice</th>\n",
       "      <th>UnitsSold</th>\n",
       "    </tr>\n",
       "  </thead>\n",
       "  <tbody>\n",
       "    <tr>\n",
       "      <th>0</th>\n",
       "      <td>01-01-2021</td>\n",
       "      <td>99.0</td>\n",
       "      <td>97.95</td>\n",
       "      <td>97.95</td>\n",
       "      <td>12</td>\n",
       "    </tr>\n",
       "    <tr>\n",
       "      <th>1</th>\n",
       "      <td>02-01-2021</td>\n",
       "      <td>99.0</td>\n",
       "      <td>85.09</td>\n",
       "      <td>85.09</td>\n",
       "      <td>10</td>\n",
       "    </tr>\n",
       "    <tr>\n",
       "      <th>2</th>\n",
       "      <td>03-01-2021</td>\n",
       "      <td>99.0</td>\n",
       "      <td>92.93</td>\n",
       "      <td>92.93</td>\n",
       "      <td>4</td>\n",
       "    </tr>\n",
       "    <tr>\n",
       "      <th>3</th>\n",
       "      <td>04-01-2021</td>\n",
       "      <td>99.0</td>\n",
       "      <td>90.24</td>\n",
       "      <td>90.24</td>\n",
       "      <td>7</td>\n",
       "    </tr>\n",
       "    <tr>\n",
       "      <th>4</th>\n",
       "      <td>05-01-2021</td>\n",
       "      <td>99.0</td>\n",
       "      <td>92.67</td>\n",
       "      <td>92.67</td>\n",
       "      <td>12</td>\n",
       "    </tr>\n",
       "  </tbody>\n",
       "</table>\n",
       "</div>"
      ],
      "text/plain": [
       "  TransactionDate   MRP  NoPromoPrice  SellingPrice  UnitsSold\n",
       "0      01-01-2021  99.0         97.95         97.95         12\n",
       "1      02-01-2021  99.0         85.09         85.09         10\n",
       "2      03-01-2021  99.0         92.93         92.93          4\n",
       "3      04-01-2021  99.0         90.24         90.24          7\n",
       "4      05-01-2021  99.0         92.67         92.67         12"
      ]
     },
     "execution_count": 39,
     "metadata": {},
     "output_type": "execute_result"
    }
   ],
   "source": [
    "sales.head()"
   ]
  },
  {
   "cell_type": "code",
   "execution_count": null,
   "id": "97c43e5f-c4de-4756-8371-0bd41e01627c",
   "metadata": {},
   "outputs": [],
   "source": [
    "import boto3 \n",
    "import pandas as pd \n",
    "from sagemaker import get_execution_role \n",
    "# Define session, role, and region so we can\n",
    "# perform any SageMaker tasks we need\n",
    "sagemaker_session = sagemaker.Session()\n",
    "role = get_execution_role()\n",
    "region = sagemaker_session.boto_region_name \n",
    "\n",
    "conn = boto3.client(\"s3\") \n",
    "\n",
    "bucket = \"retaildsbucket\" \n",
    "\n",
    "import pandas as pd \n",
    "\n",
    "sales = pd.read_csv(f's3://{bucket}/{\"Sales_Data.csv\"}')\n",
    "inventory = pd.read_csv(f's3://{bucket}/{\"Inventory_Data.csv\"}')\n",
    "pricing = pd.read_csv(f's3://{bucket}/{\"Competitor_Pricing_Data.csv\"}')\n",
    "behavior = pd.read_csv(f's3://{bucket}/{\"Daily_Customer_Behavior.csv\"}')"
   ]
  }
 ],
 "metadata": {
  "kernelspec": {
   "display_name": "Python 3 (ipykernel)",
   "language": "python",
   "name": "python3"
  },
  "language_info": {
   "codemirror_mode": {
    "name": "ipython",
    "version": 3
   },
   "file_extension": ".py",
   "mimetype": "text/x-python",
   "name": "python",
   "nbconvert_exporter": "python",
   "pygments_lexer": "ipython3",
   "version": "3.11.11"
  }
 },
 "nbformat": 4,
 "nbformat_minor": 5
}
